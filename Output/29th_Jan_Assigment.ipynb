{
 "cells": [
  {
   "cell_type": "code",
   "execution_count": null,
   "id": "8094b5a0",
   "metadata": {},
   "outputs": [],
   "source": []
  },
  {
   "cell_type": "markdown",
   "id": "86be2d79",
   "metadata": {},
   "source": [
    "#  1. who developed python programming language"
   ]
  },
  {
   "cell_type": "raw",
   "id": "006c0eae",
   "metadata": {},
   "source": [
    "python programming language developed by Guido van Rossum"
   ]
  },
  {
   "cell_type": "code",
   "execution_count": null,
   "id": "b81d0a22",
   "metadata": {},
   "outputs": [],
   "source": []
  },
  {
   "cell_type": "markdown",
   "id": "27b4e9c7",
   "metadata": {},
   "source": [
    "# 2. which type of programming does python support"
   ]
  },
  {
   "cell_type": "raw",
   "id": "86df1c64",
   "metadata": {},
   "source": [
    "Python is an interpreted programming language, supporting object-oriented, structured, and functional programming"
   ]
  },
  {
   "cell_type": "code",
   "execution_count": null,
   "id": "bb717ad5",
   "metadata": {},
   "outputs": [],
   "source": []
  },
  {
   "cell_type": "markdown",
   "id": "15011dff",
   "metadata": {},
   "source": [
    "# 3. is python case sensitive when dealing with identifiers"
   ]
  },
  {
   "cell_type": "raw",
   "id": "2e7fc5c8",
   "metadata": {},
   "source": [
    "Yes, Python is a case-sensitive language"
   ]
  },
  {
   "cell_type": "code",
   "execution_count": null,
   "id": "e559cbf3",
   "metadata": {},
   "outputs": [],
   "source": []
  },
  {
   "cell_type": "markdown",
   "id": "70072abf",
   "metadata": {},
   "source": [
    "# 4.what is the correct extension of the python file"
   ]
  },
  {
   "cell_type": "raw",
   "id": "f3b4fd95",
   "metadata": {},
   "source": [
    "The correct extension for Python source code files is “. py”"
   ]
  },
  {
   "cell_type": "code",
   "execution_count": null,
   "id": "cecb8aa7",
   "metadata": {},
   "outputs": [],
   "source": []
  },
  {
   "cell_type": "markdown",
   "id": "a13c9811",
   "metadata": {},
   "source": [
    "# 5.is python compiled or interpreted"
   ]
  },
  {
   "cell_type": "raw",
   "id": "4e23169c",
   "metadata": {},
   "source": [
    "Python is an interpreted language"
   ]
  },
  {
   "cell_type": "code",
   "execution_count": null,
   "id": "bf161867",
   "metadata": {},
   "outputs": [],
   "source": []
  },
  {
   "cell_type": "markdown",
   "id": "bfc50574",
   "metadata": {},
   "source": [
    "# 6.Name few block code to used to define python language"
   ]
  },
  {
   "cell_type": "code",
   "execution_count": null,
   "id": "0e4c28d1",
   "metadata": {},
   "outputs": [],
   "source": [
    "Indentation is used to define a block of code in python"
   ]
  },
  {
   "cell_type": "code",
   "execution_count": null,
   "id": "ae9abaac",
   "metadata": {},
   "outputs": [],
   "source": []
  },
  {
   "cell_type": "markdown",
   "id": "df978bde",
   "metadata": {},
   "source": [
    "# 7. state character used to give single line comments in python"
   ]
  },
  {
   "cell_type": "code",
   "execution_count": null,
   "id": "d1218292",
   "metadata": {},
   "outputs": [],
   "source": [
    " hash symbol # to write a singleline comment"
   ]
  },
  {
   "cell_type": "code",
   "execution_count": null,
   "id": "7718df06",
   "metadata": {},
   "outputs": [],
   "source": []
  },
  {
   "cell_type": "markdown",
   "id": "c1908690",
   "metadata": {},
   "source": [
    "# 8. mention funcation which can help to find version of python that we are currently working on "
   ]
  },
  {
   "cell_type": "code",
   "execution_count": 3,
   "id": "ece1c5a9",
   "metadata": {},
   "outputs": [
    {
     "data": {
      "text/plain": [
       "'3.9.12 (main, Apr  4 2022, 05:22:27) [MSC v.1916 64 bit (AMD64)]'"
      ]
     },
     "execution_count": 3,
     "metadata": {},
     "output_type": "execute_result"
    }
   ],
   "source": [
    "sys. version"
   ]
  },
  {
   "cell_type": "code",
   "execution_count": null,
   "id": "3ebe68f2",
   "metadata": {},
   "outputs": [],
   "source": []
  },
  {
   "cell_type": "markdown",
   "id": "b978cf78",
   "metadata": {},
   "source": [
    "# 9. python supports the creation of anonymous functions at runtime using a construct called"
   ]
  },
  {
   "cell_type": "raw",
   "id": "1e7a0321",
   "metadata": {},
   "source": [
    "# python supports the creation of anonymous functions  at runtime, using a construct called lambda"
   ]
  },
  {
   "cell_type": "code",
   "execution_count": null,
   "id": "78a6a57a",
   "metadata": {},
   "outputs": [],
   "source": []
  },
  {
   "cell_type": "markdown",
   "id": "63c74583",
   "metadata": {},
   "source": [
    "# 10 .what does pip stand for python"
   ]
  },
  {
   "cell_type": "code",
   "execution_count": null,
   "id": "14b43f4e",
   "metadata": {},
   "outputs": [],
   "source": [
    "pip is standard tool for installing Python packages and their dependencies in a secure manne"
   ]
  },
  {
   "cell_type": "code",
   "execution_count": null,
   "id": "ee7540a2",
   "metadata": {},
   "outputs": [],
   "source": []
  },
  {
   "cell_type": "markdown",
   "id": "cfb172a1",
   "metadata": {},
   "source": [
    "# 11. mention a few built-in functions in python"
   ]
  },
  {
   "cell_type": "code",
   "execution_count": null,
   "id": "5c4e78c7",
   "metadata": {},
   "outputs": [],
   "source": [
    "input()    Allowing user input\n",
    "int()      Returns an integer number\n",
    "min()      Returns the smallest item in an iterable"
   ]
  },
  {
   "cell_type": "code",
   "execution_count": null,
   "id": "5eff3e10",
   "metadata": {},
   "outputs": [],
   "source": []
  },
  {
   "cell_type": "markdown",
   "id": "4589d44e",
   "metadata": {},
   "source": [
    "# 12.what is maximum possible length of an identifier in python"
   ]
  },
  {
   "cell_type": "raw",
   "id": "d5e8b1f9",
   "metadata": {},
   "source": [
    "An identifier can have a maximum length of 79 characters in Python."
   ]
  },
  {
   "cell_type": "code",
   "execution_count": null,
   "id": "a7cc712a",
   "metadata": {},
   "outputs": [],
   "source": []
  },
  {
   "cell_type": "markdown",
   "id": "bbc3f5c2",
   "metadata": {},
   "source": [
    "# 13.what are benefits of using python"
   ]
  },
  {
   "cell_type": "raw",
   "id": "9e163206",
   "metadata": {},
   "source": [
    "Open source and large active community base\n",
    "Dynamically typed language\n",
    "Object-Oriented and Procedural programming language\n",
    "Interpreted language"
   ]
  },
  {
   "cell_type": "code",
   "execution_count": null,
   "id": "c827aec9",
   "metadata": {},
   "outputs": [],
   "source": []
  },
  {
   "cell_type": "markdown",
   "id": "ba74054a",
   "metadata": {},
   "source": [
    "# 14.how memory is managed in python"
   ]
  },
  {
   "cell_type": "code",
   "execution_count": null,
   "id": "3d0a026e",
   "metadata": {},
   "outputs": [],
   "source": [
    "Python uses a memory pool to manage the allocation of small memory blocks."
   ]
  },
  {
   "cell_type": "code",
   "execution_count": null,
   "id": "bf144293",
   "metadata": {},
   "outputs": [],
   "source": []
  },
  {
   "cell_type": "markdown",
   "id": "af4a6f82",
   "metadata": {},
   "source": [
    "# 15.how to install python on windows and set path variable"
   ]
  },
  {
   "cell_type": "code",
   "execution_count": null,
   "id": "0297964b",
   "metadata": {},
   "outputs": [],
   "source": [
    "Step 1: Select Python Version\n",
    "Step 2: Download Python Executable Installer\n",
    "Step 3: Run Executable Installer\n",
    "Step 4: Add Python to Path (Optional)\n",
    "Step 5: Verify Python Was Installed on Windows\n",
    "Step 6: Verify PIP Was Installed\n"
   ]
  },
  {
   "cell_type": "code",
   "execution_count": null,
   "id": "e216daab",
   "metadata": {},
   "outputs": [],
   "source": []
  },
  {
   "cell_type": "markdown",
   "id": "cf60d7b0",
   "metadata": {},
   "source": [
    "# 16.is indentation required in python"
   ]
  },
  {
   "cell_type": "code",
   "execution_count": null,
   "id": "524b7c5b",
   "metadata": {},
   "outputs": [],
   "source": [
    "Python requires indentation to define statement blocks"
   ]
  }
 ],
 "metadata": {
  "kernelspec": {
   "display_name": "Python 3 (ipykernel)",
   "language": "python",
   "name": "python3"
  },
  "language_info": {
   "codemirror_mode": {
    "name": "ipython",
    "version": 3
   },
   "file_extension": ".py",
   "mimetype": "text/x-python",
   "name": "python",
   "nbconvert_exporter": "python",
   "pygments_lexer": "ipython3",
   "version": "3.9.12"
  }
 },
 "nbformat": 4,
 "nbformat_minor": 5
}
